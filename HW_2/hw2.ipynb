{
 "cells": [
  {
   "cell_type": "code",
   "execution_count": 1,
   "id": "f32dbbd5",
   "metadata": {},
   "outputs": [],
   "source": [
    "import pandas as pd\n",
    "import numpy as np\n",
    "import tensorflow as tf"
   ]
  },
  {
   "cell_type": "code",
   "execution_count": 2,
   "id": "6593e039",
   "metadata": {},
   "outputs": [],
   "source": [
    "# First load the pickle containing the dictionary with the 2 Pandas Dataframes\n",
    "data = pd.read_pickle('appml-assignment1-dataset-v2.pkl')\n",
    "\n",
    "# Create independent copies of the Dataframes\n",
    "X, y = data['X'].copy(), data['y'].copy()"
   ]
  },
  {
   "cell_type": "code",
   "execution_count": 3,
   "id": "4365a96c",
   "metadata": {},
   "outputs": [
    {
     "name": "stdout",
     "output_type": "stream",
     "text": [
      "['date', 'CAD-open', 'CAD-high', 'CAD-low', 'CAD-close', 'CHF-open', 'CHF-high', 'CHF-low', 'CHF-close', 'CNH-open', 'CNH-high', 'CNH-low', 'CNH-close', 'CZK-open', 'CZK-high', 'CZK-low', 'CZK-close', 'DKK-open', 'DKK-high', 'DKK-low', 'DKK-close', 'DVS-open', 'DVS-high', 'DVS-low', 'DVS-close', 'EIS-open', 'EIS-high', 'EIS-low', 'EIS-close', 'ERUS-open', 'ERUS-high', 'ERUS-low', 'ERUS-close', 'EUR-open', 'EUR-high', 'EUR-low', 'EUR-close', 'EWA-open', 'EWA-high', 'EWA-low', 'EWA-close', 'EWD-open', 'EWD-high', 'EWD-low', 'EWD-close', 'EWG-open', 'EWG-high', 'EWG-low', 'EWG-close', 'EWH-open', 'EWH-high', 'EWH-low', 'EWH-close', 'EWJ-open', 'EWJ-high', 'EWJ-low', 'EWJ-close', 'EWL-open', 'EWL-high', 'EWL-low', 'EWL-close', 'EWS-open', 'EWS-high', 'EWS-low', 'EWS-close', 'EWU-open', 'EWU-high', 'EWU-low', 'EWU-close', 'EWW-open', 'EWW-high', 'EWW-low', 'EWW-close', 'EWY-open', 'EWY-high', 'EWY-low', 'EWY-close', 'EWZ-open', 'EWZ-high', 'EWZ-low', 'EWZ-close', 'EZA-open', 'EZA-high', 'EZA-low', 'EZA-close', 'EZU-open', 'EZU-high', 'EZU-low', 'EZU-close', 'FXI-open', 'FXI-high', 'FXI-low', 'FXI-close', 'GBP-open', 'GBP-high', 'GBP-low', 'GBP-close', 'HKD-open', 'HKD-high', 'HKD-low', 'HKD-close', 'HUF-open', 'HUF-high', 'HUF-low', 'HUF-close', 'HXT-open', 'HXT-high', 'HXT-low', 'HXT-close', 'ILS-open', 'ILS-high', 'ILS-low', 'ILS-close', 'IWM-open', 'IWM-high', 'IWM-low', 'IWM-close', 'JPY-open', 'JPY-high', 'JPY-low', 'JPY-close', 'MXN-open', 'MXN-high', 'MXN-low', 'MXN-close', 'NOK-open', 'NOK-high', 'NOK-low', 'NOK-close', 'OVX-open', 'OVX-high', 'OVX-low', 'OVX-close', 'PLN-open', 'PLN-high', 'PLN-low', 'PLN-close', 'RSX-open', 'RSX-high', 'RSX-low', 'RSX-close', 'RUB-open', 'RUB-high', 'RUB-low', 'RUB-close', 'RVX-open', 'RVX-high', 'RVX-low', 'RVX-close', 'SEK-open', 'SEK-high', 'SEK-low', 'SEK-close', 'SGD-open', 'SGD-high', 'SGD-low', 'SGD-close', 'SPX-open', 'SPX-high', 'SPX-low', 'SPX-close', 'SPY-open', 'SPY-high', 'SPY-low', 'SPY-close', 'TYVIX-open', 'TYVIX-high', 'TYVIX-low', 'TYVIX-close', 'USO-open', 'USO-high', 'USO-low', 'USO-close', 'VCN-open', 'VCN-high', 'VCN-low', 'VCN-close', 'VGK-open', 'VGK-high', 'VGK-low', 'VGK-close', 'VIX-open', 'VIX-high', 'VIX-low', 'VIX-close', 'ZCN-open', 'ZCN-high', 'ZCN-low', 'ZCN-close']\n",
      "First 5 CAD-close values (Series):\n",
      "0    1.195735\n",
      "1    1.089935\n",
      "2    1.286595\n",
      "3    1.092760\n",
      "4    1.299670\n",
      "Name: CAD-close, dtype: float64\n",
      "\n",
      "First 5 reshaped CAD-close values (NumPy array):\n",
      "[[1.195735]\n",
      " [1.089935]\n",
      " [1.286595]\n",
      " [1.09276 ]\n",
      " [1.29967 ]]\n"
     ]
    }
   ],
   "source": [
    "# Step 1: View column names (optional, for inspection)\n",
    "print(X.columns.tolist())  # Helpful if you're unsure of the exact column name\n",
    "\n",
    "# Step 2: Access the 'CAD-close' column\n",
    "cad_close = X['CAD-close']   # Make sure the column name matches exactly, including dashes and casing\n",
    "\n",
    "# Step 3: View the first few values before reshaping\n",
    "print(\"First 5 CAD-close values (Series):\")\n",
    "print(cad_close.head())\n",
    "\n",
    "# Step 4: Convert to NumPy array and reshape\n",
    "cad_close_array = cad_close.to_numpy().reshape(-1, 1)\n",
    "\n",
    "# Step 5: View reshaped array\n",
    "print(\"\\nFirst 5 reshaped CAD-close values (NumPy array):\")\n",
    "print(cad_close_array[:5])\n"
   ]
  },
  {
   "cell_type": "code",
   "execution_count": 18,
   "id": "392513dc",
   "metadata": {},
   "outputs": [
    {
     "name": "stdout",
     "output_type": "stream",
     "text": [
      "\n",
      "Bins for histogram:\n",
      "[-1.00000000e-03 -9.04761905e-04 -8.09523810e-04 -7.14285714e-04\n",
      " -6.19047619e-04 -5.23809524e-04 -4.28571429e-04 -3.33333333e-04\n",
      " -2.38095238e-04 -1.42857143e-04 -4.76190476e-05  4.76190476e-05\n",
      "  1.42857143e-04  2.38095238e-04  3.33333333e-04  4.28571429e-04\n",
      "  5.23809524e-04  6.19047619e-04  7.14285714e-04  8.09523810e-04\n",
      "  9.04761905e-04  1.00000000e-03]\n",
      "\n",
      "First 5 target labels:\n",
      "[13 14 14 ... 11 13 21]\n"
     ]
    }
   ],
   "source": [
    "frac_change = (y-cad_close) / cad_close\n",
    "bins = np.linspace(-0.001, 0.001, 22)\n",
    "target_labels = np.digitize(frac_change, bins)\n",
    "print(\"\\nBins for histogram:\")\n",
    "print(bins)\n",
    "print(\"\\nFirst 5 target labels:\")\n",
    "print(target_labels)"
   ]
  },
  {
   "cell_type": "code",
   "execution_count": 19,
   "id": "f4846423",
   "metadata": {},
   "outputs": [],
   "source": [
    "# Create temporal attributes\n",
    "X['date'] = pd.to_datetime(X['date'])\n",
    "weekday = X['date'].dt.weekday  # 0 = Monday\n",
    "hour = X['date'].dt.hour        # 0–23\n",
    "month = X['date'].dt.month      # 1–12"
   ]
  },
  {
   "cell_type": "code",
   "execution_count": 20,
   "id": "13619805",
   "metadata": {},
   "outputs": [],
   "source": [
    "\n",
    "tickers_data = X.drop(columns=['date']).to_numpy(dtype=np.float32)\n",
    "assert tickers_data.shape[1] == 188, \"Expected 188 ticker features\""
   ]
  },
  {
   "cell_type": "code",
   "execution_count": 21,
   "id": "21751b7f",
   "metadata": {},
   "outputs": [
    {
     "data": {
      "text/plain": [
       "(39640, 188)"
      ]
     },
     "execution_count": 21,
     "metadata": {},
     "output_type": "execute_result"
    }
   ],
   "source": [
    "tickers_data.shape"
   ]
  },
  {
   "cell_type": "code",
   "execution_count": null,
   "id": "08f5c0f4",
   "metadata": {},
   "outputs": [],
   "source": []
  }
 ],
 "metadata": {
  "kernelspec": {
   "display_name": "appliedmlclass",
   "language": "python",
   "name": "python3"
  },
  "language_info": {
   "codemirror_mode": {
    "name": "ipython",
    "version": 3
   },
   "file_extension": ".py",
   "mimetype": "text/x-python",
   "name": "python",
   "nbconvert_exporter": "python",
   "pygments_lexer": "ipython3",
   "version": "3.10.18"
  }
 },
 "nbformat": 4,
 "nbformat_minor": 5
}
