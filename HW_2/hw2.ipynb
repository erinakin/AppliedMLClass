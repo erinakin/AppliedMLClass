{
 "cells": [
  {
   "cell_type": "markdown",
   "id": "17b9514c",
   "metadata": {},
   "source": [
    "## Homework 2: TensorFlow Data, Feature, and Keras API Basics\n",
    "### Erin Akinjide\n",
    "\n",
    "Goals: \n",
    "- Converting a “real” raw dataset into a tfrecord format that enables easy use within the TensorFlow Data API.\n",
    "- Use keras preprocessing layers to handle basic feature pre-processing, including the embedding of categorical features and normalization of numerical features.\n",
    "- Build custom preprocessing layers keras.\n",
    "- Build, tune,and save a small keras model to infer a “real” quantity of interest from the dataset."
   ]
  },
  {
   "cell_type": "markdown",
   "id": "0b024c58",
   "metadata": {},
   "source": [
    "## Runs\n",
    "Check that Scripts Run without errors"
   ]
  },
  {
   "cell_type": "code",
   "execution_count": 6,
   "id": "f32dbbd5",
   "metadata": {},
   "outputs": [],
   "source": [
    "import tensorflow as tf\n",
    "import pandas as pd\n",
    "import numpy as np\n",
    "from customImputerLayerDefinition import ImputerLayer\n",
    "from buildAndTrainModel import parse_example, wrap_to_tf_dataset\n",
    "import os\n"
   ]
  },
  {
   "cell_type": "markdown",
   "id": "b592ecdc",
   "metadata": {},
   "source": [
    "## Dataset \n",
    "My createSavedDataset.py code creates the correct tfrecords file."
   ]
  },
  {
   "cell_type": "code",
   "execution_count": 2,
   "id": "7704f2b7",
   "metadata": {},
   "outputs": [
    {
     "name": "stdout",
     "output_type": "stream",
     "text": [
      "TFRecord file found\n",
      "Sample features: {'hour': (), 'month': (), 'tickers': (188,), 'weekday': ()}\n",
      "Sample label: 12\n"
     ]
    },
    {
     "name": "stderr",
     "output_type": "stream",
     "text": [
      "2025-07-31 14:46:21.093988: I tensorflow/core/framework/local_rendezvous.cc:407] Local rendezvous is aborting with status: OUT_OF_RANGE: End of sequence\n"
     ]
    }
   ],
   "source": [
    "# Check if TFRecord file exists\n",
    "assert os.path.exists(\"dataset.tfrecords\"), \"TFRecord file not found\"\n",
    "print(\"TFRecord file found\")\n",
    "\n",
    "# Load a few samples to inspect\n",
    "raw_dataset = tf.data.TFRecordDataset(\"dataset.tfrecords\")\n",
    "parsed_dataset = raw_dataset.map(parse_example)\n",
    "\n",
    "# Show one example\n",
    "for features, label in parsed_dataset.take(1):\n",
    "    print(\"Sample features:\", {k: v.numpy().shape for k, v in features.items()})\n",
    "    print(\"Sample label:\", label.numpy())\n"
   ]
  },
  {
   "cell_type": "markdown",
   "id": "83ccfe10",
   "metadata": {},
   "source": [
    "## Imputer\n",
    "\n",
    "My customImputerLayerDefinition.py code replaces NaNs as explained above."
   ]
  },
  {
   "cell_type": "code",
   "execution_count": 3,
   "id": "6593e039",
   "metadata": {},
   "outputs": [
    {
     "name": "stdout",
     "output_type": "stream",
     "text": [
      " Original data:\n",
      " [[1.  nan 3. ]\n",
      " [0.5 2.  nan]\n",
      " [nan 1.  4. ]]\n",
      " Imputed data:\n",
      " [[1.  1.  3. ]\n",
      " [0.5 2.  3. ]\n",
      " [0.5 1.  4. ]]\n"
     ]
    }
   ],
   "source": [
    "# Create fake input with NaNs\n",
    "data = np.array([[1.0, np.nan, 3.0], [0.5, 2.0, np.nan], [np.nan, 1.0, 4.0]], dtype=np.float32)\n",
    "imputer = ImputerLayer()\n",
    "imputer.adapt(data)\n",
    "imputed = imputer(data)\n",
    "\n",
    "print(\" Original data:\\n\", data)\n",
    "print(\" Imputed data:\\n\", imputed.numpy())\n"
   ]
  },
  {
   "cell_type": "markdown",
   "id": "c3ca7ab5",
   "metadata": {},
   "source": [
    "## Loads Data\n",
    "My buildAndTrainModel.py code loads the data from your tfrecords and processes it to produce a dataset properly."
   ]
  },
  {
   "cell_type": "code",
   "execution_count": null,
   "id": "4365a96c",
   "metadata": {},
   "outputs": [
    {
     "ename": "AttributeError",
     "evalue": "'TFSMLayer' object has no attribute 'evaluate'",
     "output_type": "error",
     "traceback": [
      "\u001b[0;31m---------------------------------------------------------------------------\u001b[0m",
      "\u001b[0;31mAttributeError\u001b[0m                            Traceback (most recent call last)",
      "Cell \u001b[0;32mIn[5], line 12\u001b[0m\n\u001b[1;32m      8\u001b[0m y_test \u001b[38;5;241m=\u001b[39m tf\u001b[38;5;241m.\u001b[39mconvert_to_tensor([d[\u001b[38;5;241m1\u001b[39m] \u001b[38;5;28;01mfor\u001b[39;00m d \u001b[38;5;129;01min\u001b[39;00m test_samples])\n\u001b[1;32m     10\u001b[0m test_data \u001b[38;5;241m=\u001b[39m tf\u001b[38;5;241m.\u001b[39mdata\u001b[38;5;241m.\u001b[39mDataset\u001b[38;5;241m.\u001b[39mfrom_tensor_slices((X_test_dict, y_test))\u001b[38;5;241m.\u001b[39mbatch(\u001b[38;5;241m32\u001b[39m)\n\u001b[0;32m---> 12\u001b[0m loss, acc \u001b[38;5;241m=\u001b[39m \u001b[43mreloaded_model\u001b[49m\u001b[38;5;241;43m.\u001b[39;49m\u001b[43mevaluate\u001b[49m(test_data)\n\u001b[1;32m     13\u001b[0m \u001b[38;5;28mprint\u001b[39m(\u001b[38;5;124mf\u001b[39m\u001b[38;5;124m\"\u001b[39m\u001b[38;5;124m✅ Reloaded model test accuracy: \u001b[39m\u001b[38;5;132;01m{\u001b[39;00macc\u001b[38;5;132;01m:\u001b[39;00m\u001b[38;5;124m.4f\u001b[39m\u001b[38;5;132;01m}\u001b[39;00m\u001b[38;5;124m\"\u001b[39m)\n",
      "\u001b[0;31mAttributeError\u001b[0m: 'TFSMLayer' object has no attribute 'evaluate'"
     ]
    }
   ],
   "source": [
    "# Load the exported SavedModel as a layer\n",
    "reloaded_layer = tf.keras.layers.TFSMLayer(\"mySavedModel\", call_endpoint='serving_default')\n",
    "\n",
    "# Reconstruct the input structure (must match original model)\n",
    "tickers_input = tf.keras.layers.Input(shape=(188,), dtype=tf.float32, name=\"tickers\")\n",
    "weekday_input = tf.keras.layers.Input(shape=(), dtype=tf.int64, name=\"weekday\")\n",
    "hour_input = tf.keras.layers.Input(shape=(), dtype=tf.int64, name=\"hour\")\n",
    "month_input = tf.keras.layers.Input(shape=(), dtype=tf.int64, name=\"month\")\n",
    "\n",
    "# Feed the inputs into the reloaded SavedModel layer\n",
    "outputs = reloaded_layer({\n",
    "    \"tickers\": tickers_input,\n",
    "    \"weekday\": weekday_input,\n",
    "    \"hour\": hour_input,\n",
    "    \"month\": month_input\n",
    "})\n",
    "\n",
    "# Now wrap it in a new Model that can be evaluated\n",
    "reloaded_model = tf.keras.Model(\n",
    "    inputs=[tickers_input, weekday_input, hour_input, month_input],\n",
    "    outputs=outputs\n",
    ")\n",
    "\n",
    "test_data = wrap_to_tf_dataset(X_test, y_test)\n",
    "\n",
    "# Now you can evaluate\n",
    "loss, acc = reloaded_model.evaluate(test_data)\n",
    "print(f\"✅ Reloaded model test accuracy: {acc:.4f}\")\n"
   ]
  }
 ],
 "metadata": {
  "kernelspec": {
   "display_name": "mlclass",
   "language": "python",
   "name": "python3"
  },
  "language_info": {
   "codemirror_mode": {
    "name": "ipython",
    "version": 3
   },
   "file_extension": ".py",
   "mimetype": "text/x-python",
   "name": "python",
   "nbconvert_exporter": "python",
   "pygments_lexer": "ipython3",
   "version": "3.10.18"
  }
 },
 "nbformat": 4,
 "nbformat_minor": 5
}
