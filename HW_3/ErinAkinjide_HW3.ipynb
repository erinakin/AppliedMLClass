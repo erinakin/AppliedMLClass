{
  "cells": [
    {
      "cell_type": "markdown",
      "id": "661aad24",
      "metadata": {
        "id": "661aad24"
      },
      "source": [
        "\n",
        "# Assignment 3: Transfer Learning for Image Classification\n",
        "## Erin Akinjide\n",
        "\n",
        " Summer 2025"
      ]
    },
    {
      "cell_type": "markdown",
      "id": "6c685af7",
      "metadata": {
        "id": "6c685af7"
      },
      "source": []
    }
  ],
  "metadata": {
    "kernelspec": {
      "display_name": "mlclass",
      "language": "python",
      "name": "python3"
    },
    "language_info": {
      "name": "python",
      "version": "3.10.18"
    },
    "colab": {
      "provenance": []
    }
  },
  "nbformat": 4,
  "nbformat_minor": 5
}